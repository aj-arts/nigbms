{
 "cells": [
  {
   "cell_type": "markdown",
   "metadata": {},
   "source": [
    "Connected to Python 3.10.12"
   ]
  },
  {
   "cell_type": "code",
   "execution_count": 17,
   "id": "418bc478-e404-49e0-8576-374a36b33731",
   "metadata": {},
   "outputs": [],
   "source": [
    "# %%\n",
    "from dataclasses import dataclass\n",
    "from typing import Any, Dict, List, Tuple, Union\n",
    "\n",
    "import pandas as pd\n",
    "import torch\n",
    "from lightning import LightningDataModule\n",
    "from tensordict import TensorDict\n",
    "from torch.utils.data.dataloader import DataLoader\n",
    "from torch.utils.data.dataset import Dataset\n",
    "\n",
    "from nigbms.utils.distributions import Constant, LogUniform\n",
    "\n",
    "\n",
    "@dataclass\n",
    "class Task:\n",
    "    A: torch.Tensor = None\n",
    "    b: torch.Tensor = None\n",
    "    x: torch.Tensor = None\n",
    "    rtol: torch.Tensor = None\n",
    "    maxiter: torch.Tensor = None\n",
    "    features: TensorDict = None\n",
    "\n",
    "\n",
    "class OfflineDataset(Dataset):\n",
    "    def __init__(\n",
    "        self,\n",
    "        data_dir: str,\n",
    "        meta_df: pd.DataFrame,\n",
    "        fixed_A: bool = True,\n",
    "        rtol: Union[float, Tuple[float, float]] = 1.0e-6,\n",
    "        maxiter: Union[int, Tuple[int, int]] = 1000,\n",
    "    ) -> None:\n",
    "        self.data_dir = data_dir\n",
    "        self.meta_df = meta_df\n",
    "\n",
    "        if fixed_A:\n",
    "            self.fixed_A = torch.load(data_dir + \"/A.pt\")\n",
    "\n",
    "        if isinstance(rtol, tuple):\n",
    "            self.rtol_dist = LogUniform(rtol[0], rtol[1])\n",
    "        elif isinstance(rtol, float):\n",
    "            self.rtol_dist = Constant(rtol)\n",
    "        else:\n",
    "            raise ValueError(\"rtol must be a float or a tuple of floats\")\n",
    "\n",
    "        if isinstance(maxiter, tuple):\n",
    "            self.maxiter_dist = Constant(maxiter[0], maxiter[1])\n",
    "        elif isinstance(maxiter, int):\n",
    "            self.maxiter_dist = Constant(maxiter)\n",
    "        else:\n",
    "            raise ValueError(\"maxiter must be an int or a tuple of ints\")\n",
    "\n",
    "    def __len__(self) -> int:\n",
    "        return len(self.meta_df)\n",
    "\n",
    "    def __getitem__(self, idx):\n",
    "        if isinstance(self.fixed_A, torch.Tensor):\n",
    "            A = self.fixed_A\n",
    "        else:\n",
    "            A = torch.load(self.data_dir + f\"/{idx}_A.pt\")\n",
    "\n",
    "        b = torch.load(self.data_dir + f\"/{idx}_b.pt\")\n",
    "        x = torch.load(self.data_dir + f\"/{idx}_x.pt\")\n",
    "        rtol = self.rtol_dist.sample()\n",
    "        maxiter = self.maxiter_dist.sample()\n",
    "        features = TensorDict({\"rtol\": rtol.clone(), \"maxiter\": maxiter.clone()})\n",
    "\n",
    "        tau = Task(A, b, x, rtol, maxiter, features)\n",
    "\n",
    "        return tau.asdict()\n",
    "\n",
    "\n",
    "def offline_collate_fn(batch: List[Any]) -> Any:\n",
    "    A, b, x, features = zip(*batch, strict=False)\n",
    "    A = torch.stack(A)\n",
    "    b = torch.stack(b)\n",
    "    x = torch.stack(x)\n",
    "    features = torch.stack(features)\n",
    "    tau = {\"A\": A, \"b\": b, \"features\": features, \"x\": x}\n",
    "    if \"rtol\" in features.keys():\n",
    "        tau[\"rtol\"] = features[\"rtol\"]\n",
    "    return tau\n",
    "\n",
    "\n",
    "class OfflineDataModule(LightningDataModule):\n",
    "    def __init__(\n",
    "        self,\n",
    "        data_dir: str,\n",
    "        meta_dfs: Dict[str, pd.DataFrame],\n",
    "        fixed_A: bool,\n",
    "        train_rtol: Union[float, Tuple[float, float]],\n",
    "        test_rtol: Union[float, Tuple[float, float]],\n",
    "        train_maxiter: Union[int, Tuple[int, int]],\n",
    "        test_maxiter: Union[int, Tuple[int, int]],\n",
    "        batch_size: int,\n",
    "    ) -> None:\n",
    "        super().__init__()\n",
    "        self.data_dir = data_dir\n",
    "        self.meta_dfs = meta_dfs\n",
    "        self.fixed_A = fixed_A\n",
    "        self.train_rtol = train_rtol\n",
    "        self.test_rtol = test_rtol\n",
    "        self.train_maxiter = train_maxiter\n",
    "        self.test_maxiter = test_maxiter\n",
    "        self.batch_size = batch_size\n",
    "\n",
    "    def prepare_data(self) -> None:\n",
    "        pass\n",
    "\n",
    "    def setup(self, stage: str = None):\n",
    "        if stage == \"fit\" or stage is None:\n",
    "            self.train_ds = OfflineDataset(\n",
    "                self.data_dir, self.meta_dfs[\"train\"], self.fixed_A, self.train_rtol, self.train_maxiter\n",
    "            )\n",
    "            self.val_ds = OfflineDataset(\n",
    "                self.data_dir, self.meta_dfs[\"val\"], self.fixed_A, self.test_rtol, self.test_maxiter\n",
    "            )\n",
    "\n",
    "        if stage == \"test\":\n",
    "            self.test_ds = OfflineDataset(\n",
    "                self.data_dir, self.meta_dfs[\"test\"], self.fixed_A, self.test_rtol, self.test_maxiter\n",
    "            )\n",
    "\n",
    "    def train_dataloader(self):\n",
    "        return DataLoader(self.train_ds, batch_size=self.batch_size, shuffle=True, collate_fn=offline_collate_fn)\n",
    "\n",
    "    def val_dataloader(self):\n",
    "        return DataLoader(self.val_ds, batch_size=self.batch_size, shuffle=False, collate_fn=offline_collate_fn)\n",
    "\n",
    "    def test_dataloader(self):\n",
    "        return DataLoader(self.test_ds, batch_size=self.batch_size, shuffle=False, collate_fn=offline_collate_fn)\n",
    "\n",
    "\n",
    "# %%\n"
   ]
  },
  {
   "cell_type": "code",
   "execution_count": 18,
   "metadata": {},
   "outputs": [],
   "source": [
    "data_dir = \"/home/arisaka/nigbms/data/raw/poisson1d/2024-05-06_06-07-05\""
   ]
  },
  {
   "cell_type": "code",
   "execution_count": 19,
   "metadata": {},
   "outputs": [],
   "source": [
    "meta_dfs = {\n",
    "    \"train\": pd.read_csv(data_dir + \"/meta_df.csv\"),\n",
    "    \"val\": pd.read_csv(data_dir + \"/meta_df.csv\"),\n",
    "    \"test\": pd.read_csv(data_dir + \"/meta_df.csv\"),\n",
    "}"
   ]
  },
  {
   "cell_type": "code",
   "execution_count": 20,
   "metadata": {},
   "outputs": [],
   "source": [
    "dm = OfflineDataModule(data_dir, meta_dfs, True, 1.0e-6,1.0e-6,  1000, 1000, 32)"
   ]
  },
  {
   "cell_type": "code",
   "execution_count": 21,
   "metadata": {},
   "outputs": [],
   "source": [
    "dm.setup(\"fit\")\n",
    "dl = dm.train_dataloader()"
   ]
  },
  {
   "cell_type": "code",
   "execution_count": 23,
   "metadata": {},
   "outputs": [
    {
     "ename": "AttributeError",
     "evalue": "'Task' object has no attribute 'asdict'",
     "output_type": "error",
     "traceback": [
      "\u001b[0;31m---------------------------------------------------------------------------\u001b[0m",
      "\u001b[0;31mAttributeError\u001b[0m                            Traceback (most recent call last)",
      "Cell \u001b[0;32mIn[23], line 1\u001b[0m\n\u001b[0;32m----> 1\u001b[0m \u001b[38;5;28;01mfor\u001b[39;00m batch \u001b[38;5;129;01min\u001b[39;00m dl:\n\u001b[1;32m      2\u001b[0m     \u001b[38;5;28mprint\u001b[39m(batch)\n",
      "File \u001b[0;32m/usr/local/lib/python3.10/dist-packages/torch/utils/data/dataloader.py:631\u001b[0m, in \u001b[0;36m_BaseDataLoaderIter.__next__\u001b[0;34m(self)\u001b[0m\n\u001b[1;32m    628\u001b[0m \u001b[38;5;28;01mif\u001b[39;00m \u001b[38;5;28mself\u001b[39m\u001b[38;5;241m.\u001b[39m_sampler_iter \u001b[38;5;129;01mis\u001b[39;00m \u001b[38;5;28;01mNone\u001b[39;00m:\n\u001b[1;32m    629\u001b[0m     \u001b[38;5;66;03m# TODO(https://github.com/pytorch/pytorch/issues/76750)\u001b[39;00m\n\u001b[1;32m    630\u001b[0m     \u001b[38;5;28mself\u001b[39m\u001b[38;5;241m.\u001b[39m_reset()  \u001b[38;5;66;03m# type: ignore[call-arg]\u001b[39;00m\n\u001b[0;32m--> 631\u001b[0m data \u001b[38;5;241m=\u001b[39m \u001b[38;5;28;43mself\u001b[39;49m\u001b[38;5;241;43m.\u001b[39;49m\u001b[43m_next_data\u001b[49m\u001b[43m(\u001b[49m\u001b[43m)\u001b[49m\n\u001b[1;32m    632\u001b[0m \u001b[38;5;28mself\u001b[39m\u001b[38;5;241m.\u001b[39m_num_yielded \u001b[38;5;241m+\u001b[39m\u001b[38;5;241m=\u001b[39m \u001b[38;5;241m1\u001b[39m\n\u001b[1;32m    633\u001b[0m \u001b[38;5;28;01mif\u001b[39;00m \u001b[38;5;28mself\u001b[39m\u001b[38;5;241m.\u001b[39m_dataset_kind \u001b[38;5;241m==\u001b[39m _DatasetKind\u001b[38;5;241m.\u001b[39mIterable \u001b[38;5;129;01mand\u001b[39;00m \\\n\u001b[1;32m    634\u001b[0m         \u001b[38;5;28mself\u001b[39m\u001b[38;5;241m.\u001b[39m_IterableDataset_len_called \u001b[38;5;129;01mis\u001b[39;00m \u001b[38;5;129;01mnot\u001b[39;00m \u001b[38;5;28;01mNone\u001b[39;00m \u001b[38;5;129;01mand\u001b[39;00m \\\n\u001b[1;32m    635\u001b[0m         \u001b[38;5;28mself\u001b[39m\u001b[38;5;241m.\u001b[39m_num_yielded \u001b[38;5;241m>\u001b[39m \u001b[38;5;28mself\u001b[39m\u001b[38;5;241m.\u001b[39m_IterableDataset_len_called:\n",
      "File \u001b[0;32m/usr/local/lib/python3.10/dist-packages/torch/utils/data/dataloader.py:675\u001b[0m, in \u001b[0;36m_SingleProcessDataLoaderIter._next_data\u001b[0;34m(self)\u001b[0m\n\u001b[1;32m    673\u001b[0m \u001b[38;5;28;01mdef\u001b[39;00m \u001b[38;5;21m_next_data\u001b[39m(\u001b[38;5;28mself\u001b[39m):\n\u001b[1;32m    674\u001b[0m     index \u001b[38;5;241m=\u001b[39m \u001b[38;5;28mself\u001b[39m\u001b[38;5;241m.\u001b[39m_next_index()  \u001b[38;5;66;03m# may raise StopIteration\u001b[39;00m\n\u001b[0;32m--> 675\u001b[0m     data \u001b[38;5;241m=\u001b[39m \u001b[38;5;28;43mself\u001b[39;49m\u001b[38;5;241;43m.\u001b[39;49m\u001b[43m_dataset_fetcher\u001b[49m\u001b[38;5;241;43m.\u001b[39;49m\u001b[43mfetch\u001b[49m\u001b[43m(\u001b[49m\u001b[43mindex\u001b[49m\u001b[43m)\u001b[49m  \u001b[38;5;66;03m# may raise StopIteration\u001b[39;00m\n\u001b[1;32m    676\u001b[0m     \u001b[38;5;28;01mif\u001b[39;00m \u001b[38;5;28mself\u001b[39m\u001b[38;5;241m.\u001b[39m_pin_memory:\n\u001b[1;32m    677\u001b[0m         data \u001b[38;5;241m=\u001b[39m _utils\u001b[38;5;241m.\u001b[39mpin_memory\u001b[38;5;241m.\u001b[39mpin_memory(data, \u001b[38;5;28mself\u001b[39m\u001b[38;5;241m.\u001b[39m_pin_memory_device)\n",
      "File \u001b[0;32m/usr/local/lib/python3.10/dist-packages/torch/utils/data/_utils/fetch.py:51\u001b[0m, in \u001b[0;36m_MapDatasetFetcher.fetch\u001b[0;34m(self, possibly_batched_index)\u001b[0m\n\u001b[1;32m     49\u001b[0m         data \u001b[38;5;241m=\u001b[39m \u001b[38;5;28mself\u001b[39m\u001b[38;5;241m.\u001b[39mdataset\u001b[38;5;241m.\u001b[39m__getitems__(possibly_batched_index)\n\u001b[1;32m     50\u001b[0m     \u001b[38;5;28;01melse\u001b[39;00m:\n\u001b[0;32m---> 51\u001b[0m         data \u001b[38;5;241m=\u001b[39m [\u001b[38;5;28mself\u001b[39m\u001b[38;5;241m.\u001b[39mdataset[idx] \u001b[38;5;28;01mfor\u001b[39;00m idx \u001b[38;5;129;01min\u001b[39;00m possibly_batched_index]\n\u001b[1;32m     52\u001b[0m \u001b[38;5;28;01melse\u001b[39;00m:\n\u001b[1;32m     53\u001b[0m     data \u001b[38;5;241m=\u001b[39m \u001b[38;5;28mself\u001b[39m\u001b[38;5;241m.\u001b[39mdataset[possibly_batched_index]\n",
      "File \u001b[0;32m/usr/local/lib/python3.10/dist-packages/torch/utils/data/_utils/fetch.py:51\u001b[0m, in \u001b[0;36m<listcomp>\u001b[0;34m(.0)\u001b[0m\n\u001b[1;32m     49\u001b[0m         data \u001b[38;5;241m=\u001b[39m \u001b[38;5;28mself\u001b[39m\u001b[38;5;241m.\u001b[39mdataset\u001b[38;5;241m.\u001b[39m__getitems__(possibly_batched_index)\n\u001b[1;32m     50\u001b[0m     \u001b[38;5;28;01melse\u001b[39;00m:\n\u001b[0;32m---> 51\u001b[0m         data \u001b[38;5;241m=\u001b[39m [\u001b[38;5;28;43mself\u001b[39;49m\u001b[38;5;241;43m.\u001b[39;49m\u001b[43mdataset\u001b[49m\u001b[43m[\u001b[49m\u001b[43midx\u001b[49m\u001b[43m]\u001b[49m \u001b[38;5;28;01mfor\u001b[39;00m idx \u001b[38;5;129;01min\u001b[39;00m possibly_batched_index]\n\u001b[1;32m     52\u001b[0m \u001b[38;5;28;01melse\u001b[39;00m:\n\u001b[1;32m     53\u001b[0m     data \u001b[38;5;241m=\u001b[39m \u001b[38;5;28mself\u001b[39m\u001b[38;5;241m.\u001b[39mdataset[possibly_batched_index]\n",
      "Cell \u001b[0;32mIn[17], line 71\u001b[0m, in \u001b[0;36mOfflineDataset.__getitem__\u001b[0;34m(self, idx)\u001b[0m\n\u001b[1;32m     67\u001b[0m features \u001b[38;5;241m=\u001b[39m TensorDict({\u001b[38;5;124m\"\u001b[39m\u001b[38;5;124mrtol\u001b[39m\u001b[38;5;124m\"\u001b[39m: rtol\u001b[38;5;241m.\u001b[39mclone(), \u001b[38;5;124m\"\u001b[39m\u001b[38;5;124mmaxiter\u001b[39m\u001b[38;5;124m\"\u001b[39m: maxiter\u001b[38;5;241m.\u001b[39mclone()})\n\u001b[1;32m     69\u001b[0m tau \u001b[38;5;241m=\u001b[39m Task(A, b, x, rtol, maxiter, features)\n\u001b[0;32m---> 71\u001b[0m \u001b[38;5;28;01mreturn\u001b[39;00m \u001b[43mtau\u001b[49m\u001b[38;5;241;43m.\u001b[39;49m\u001b[43masdict\u001b[49m()\n",
      "\u001b[0;31mAttributeError\u001b[0m: 'Task' object has no attribute 'asdict'"
     ]
    }
   ],
   "source": [
    "for batch in dl:\n",
    "    print(batch)"
   ]
  },
  {
   "cell_type": "code",
   "execution_count": 16,
   "metadata": {},
   "outputs": [],
   "source": []
  },
  {
   "cell_type": "code",
   "execution_count": 15,
   "metadata": {},
   "outputs": [
    {
     "data": {
      "text/plain": [
       "Task(A=None, b=None, x=None, rtol=None, maxiter=None, features=None)"
      ]
     },
     "execution_count": 15,
     "metadata": {},
     "output_type": "execute_result"
    }
   ],
   "source": [
    "tau"
   ]
  },
  {
   "cell_type": "code",
   "execution_count": null,
   "metadata": {},
   "outputs": [],
   "source": []
  }
 ],
 "metadata": {
  "kernelspec": {
   "display_name": "Python 3",
   "language": "python",
   "name": "python3"
  },
  "language_info": {
   "codemirror_mode": {
    "name": "ipython",
    "version": 3
   },
   "file_extension": ".py",
   "mimetype": "text/x-python",
   "name": "python",
   "nbconvert_exporter": "python",
   "pygments_lexer": "ipython3",
   "version": "3.10.12"
  }
 },
 "nbformat": 4,
 "nbformat_minor": 2
}
