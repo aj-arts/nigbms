{
 "cells": [
  {
   "cell_type": "code",
   "execution_count": 9,
   "metadata": {},
   "outputs": [
    {
     "ename": "ValueError",
     "evalue": "incompatible array sizes: ni=3, nj=3, nv=3",
     "output_type": "error",
     "traceback": [
      "\u001b[0;31m---------------------------------------------------------------------------\u001b[0m",
      "\u001b[0;31mValueError\u001b[0m                                Traceback (most recent call last)",
      "Cell \u001b[0;32mIn[9], line 29\u001b[0m\n\u001b[1;32m     26\u001b[0m size \u001b[38;5;241m=\u001b[39m [\u001b[38;5;241m2\u001b[39m, \u001b[38;5;241m3\u001b[39m]\n\u001b[1;32m     28\u001b[0m coo_tensor \u001b[38;5;241m=\u001b[39m torch\u001b[38;5;241m.\u001b[39msparse_coo_tensor(indices, values, size)\n\u001b[0;32m---> 29\u001b[0m petsc_mat \u001b[38;5;241m=\u001b[39m \u001b[43mtorch_coo_to_petsc\u001b[49m\u001b[43m(\u001b[49m\u001b[43mcoo_tensor\u001b[49m\u001b[43m)\u001b[49m\n\u001b[1;32m     30\u001b[0m petsc_mat\u001b[38;5;241m.\u001b[39mview()\n",
      "Cell \u001b[0;32mIn[9], line 17\u001b[0m, in \u001b[0;36mtorch_coo_to_petsc\u001b[0;34m(tensor)\u001b[0m\n\u001b[1;32m     14\u001b[0m shape \u001b[38;5;241m=\u001b[39m tensor\u001b[38;5;241m.\u001b[39mshape\n\u001b[1;32m     16\u001b[0m A \u001b[38;5;241m=\u001b[39m PETSc\u001b[38;5;241m.\u001b[39mMat()\u001b[38;5;241m.\u001b[39mcreateAIJ(size\u001b[38;5;241m=\u001b[39mshape)\n\u001b[0;32m---> 17\u001b[0m \u001b[43mA\u001b[49m\u001b[38;5;241;43m.\u001b[39;49m\u001b[43msetValues\u001b[49m\u001b[43m(\u001b[49m\u001b[43mindices\u001b[49m\u001b[43m[\u001b[49m\u001b[38;5;241;43m0\u001b[39;49m\u001b[43m]\u001b[49m\u001b[43m,\u001b[49m\u001b[43m \u001b[49m\u001b[43mindices\u001b[49m\u001b[43m[\u001b[49m\u001b[38;5;241;43m1\u001b[39;49m\u001b[43m]\u001b[49m\u001b[43m,\u001b[49m\u001b[43m \u001b[49m\u001b[43mvalues\u001b[49m\u001b[43m)\u001b[49m\n\u001b[1;32m     18\u001b[0m A\u001b[38;5;241m.\u001b[39massemble()\n\u001b[1;32m     20\u001b[0m \u001b[38;5;28;01mreturn\u001b[39;00m A\n",
      "File \u001b[0;32mPETSc/Mat.pyx:888\u001b[0m, in \u001b[0;36mpetsc4py.PETSc.Mat.setValues\u001b[0;34m()\u001b[0m\n",
      "File \u001b[0;32mPETSc/petscmat.pxi:828\u001b[0m, in \u001b[0;36mpetsc4py.PETSc.matsetvalues\u001b[0;34m()\u001b[0m\n",
      "\u001b[0;31mValueError\u001b[0m: incompatible array sizes: ni=3, nj=3, nv=3"
     ]
    }
   ],
   "source": [
    "import torch\n",
    "from petsc4py import PETSc\n",
    "\n",
    "def torch_coo_to_petsc(tensor: torch.Tensor) -> PETSc.Mat:\n",
    "    \"\"\"\n",
    "    PyTorchのCOO形式の疎行列をPETScの疎行列に変換する関数。\n",
    "\n",
    "    :param tensor: PyTorchのCOO形式の疎行列（torch.sparse_coo_tensor）\n",
    "    :return: PETScの疎行列（PETSc.Mat）\n",
    "    \"\"\"\n",
    "    tensor = tensor.coalesce()\n",
    "    indices = tensor.indices().numpy().astype(\"int32\")\n",
    "    values = tensor.values().numpy()\n",
    "    shape = tensor.shape\n",
    "\n",
    "    A = PETSc.Mat().createAIJ(size=shape)\n",
    "    A.setValues(indices[0], indices[1], values)\n",
    "    A.assemble()\n",
    "\n",
    "    return A\n",
    "\n",
    "# 使用例\n",
    "if __name__ == \"__main__\":\n",
    "    indices = torch.tensor([[0, 1, 1], [2, 0, 2]])\n",
    "    values = torch.tensor([3.0, 4.0, 5.0])\n",
    "    size = [2, 3]\n",
    "\n",
    "    coo_tensor = torch.sparse_coo_tensor(indices, values, size)\n",
    "    petsc_mat = torch_coo_to_petsc(coo_tensor)\n",
    "    petsc_mat.view()"
   ]
  },
  {
   "cell_type": "code",
   "execution_count": 10,
   "metadata": {},
   "outputs": [
    {
     "name": "stdout",
     "output_type": "stream",
     "text": [
      "<petsc4py.PETSc.Mat object at 0x7f04ec405120>\n"
     ]
    }
   ],
   "source": [
    "import torch\n",
    "import petsc4py\n",
    "import numpy as np\n",
    "\n",
    "# PETScの初期化\n",
    "petsc4py.init()\n",
    "from petsc4py import PETSc\n",
    "\n",
    "# PyTorch Tensorを作成\n",
    "tensor = torch.rand(5, 5)  # 5x5のランダムなTensor\n",
    "\n",
    "# TensorをNumPy配列に変換\n",
    "numpy_array = tensor.numpy()\n",
    "\n",
    "# PETSc Matを作成\n",
    "A = PETSc.Mat().create()\n",
    "A.setSizes(numpy_array.shape)\n",
    "A.setType('dense')  # デフォルトの形式（密行列）\n",
    "A.setUp()\n",
    "\n",
    "# NumPy配列をPETSc Matにコピー\n",
    "A[:, :] = numpy_array\n",
    "\n",
    "# PETSc Matを使用\n",
    "A.assemble()\n",
    "\n",
    "# 確認のために出力\n",
    "print(A)"
   ]
  },
  {
   "cell_type": "code",
   "execution_count": 11,
   "metadata": {},
   "outputs": [
    {
     "name": "stdout",
     "output_type": "stream",
     "text": [
      "Mat Object: 1 MPI processes\n",
      "  type: seqdense\n",
      "6.7152512073516846e-01 2.1587842702865601e-01 3.9931350946426392e-01 7.5507098436355591e-01 4.4482547044754028e-01 \n",
      "8.6070072650909424e-01 1.9142699241638184e-01 7.2929805517196655e-01 5.2156823873519897e-01 2.1504819393157959e-02 \n",
      "6.4386016130447388e-01 5.8503919839859009e-01 7.6476496458053589e-01 9.4866359233856201e-01 1.4169079065322876e-01 \n",
      "3.1605482101440430e-02 9.5142477750778198e-01 9.3237513303756714e-01 2.1590763330459595e-01 2.7173995971679688e-01 \n",
      "9.1019421815872192e-01 2.9157775640487671e-01 7.4407005310058594e-01 6.0704129934310913e-01 7.2583508491516113e-01 \n"
     ]
    }
   ],
   "source": [
    "A.view()"
   ]
  },
  {
   "cell_type": "code",
   "execution_count": 12,
   "metadata": {},
   "outputs": [
    {
     "ename": "TypeError",
     "evalue": "new(): data must be a sequence (got float)",
     "output_type": "error",
     "traceback": [
      "\u001b[0;31m---------------------------------------------------------------------------\u001b[0m",
      "\u001b[0;31mTypeError\u001b[0m                                 Traceback (most recent call last)",
      "Cell \u001b[0;32mIn[12], line 1\u001b[0m\n\u001b[0;32m----> 1\u001b[0m \u001b[43mtorch\u001b[49m\u001b[38;5;241;43m.\u001b[39;49m\u001b[43mTensor\u001b[49m\u001b[43m(\u001b[49m\u001b[38;5;241;43m1.0\u001b[39;49m\u001b[43m)\u001b[49m\n",
      "\u001b[0;31mTypeError\u001b[0m: new(): data must be a sequence (got float)"
     ]
    }
   ],
   "source": [
    "torch.Tensor(1.0)\n"
   ]
  },
  {
   "cell_type": "code",
   "execution_count": null,
   "metadata": {},
   "outputs": [],
   "source": []
  }
 ],
 "metadata": {
  "kernelspec": {
   "display_name": "Python 3",
   "language": "python",
   "name": "python3"
  },
  "language_info": {
   "codemirror_mode": {
    "name": "ipython",
    "version": 3
   },
   "file_extension": ".py",
   "mimetype": "text/x-python",
   "name": "python",
   "nbconvert_exporter": "python",
   "pygments_lexer": "ipython3",
   "version": "3.10.12"
  }
 },
 "nbformat": 4,
 "nbformat_minor": 2
}
